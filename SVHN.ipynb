{
  "nbformat": 4,
  "nbformat_minor": 0,
  "metadata": {
    "colab": {
      "name": "SVHN.ipynb",
      "provenance": []
    },
    "kernelspec": {
      "name": "python3",
      "display_name": "Python 3"
    },
    "language_info": {
      "name": "python"
    }
  },
  "cells": [
    {
      "cell_type": "code",
      "metadata": {
        "colab": {
          "base_uri": "https://localhost:8080/"
        },
        "id": "u3rG-rjUEKyZ",
        "outputId": "0cad040b-75fd-4ec7-ec4b-c11fff5eeba8"
      },
      "source": [
        "# Make sure you use the Colab GPU to run the testing phase\n",
        "\n",
        "import torch\n",
        "torch.cuda.is_available()"
      ],
      "execution_count": null,
      "outputs": [
        {
          "output_type": "execute_result",
          "data": {
            "text/plain": [
              "False"
            ]
          },
          "metadata": {},
          "execution_count": 1
        }
      ]
    },
    {
      "cell_type": "code",
      "metadata": {
        "colab": {
          "base_uri": "https://localhost:8080/"
        },
        "id": "h84u9Y9zAv49",
        "outputId": "f7f33bc0-0d96-4c09-9a7f-6cb4d97d5e38"
      },
      "source": [
        "# Show the GPU info\n",
        "\n",
        "!nvidia-smi"
      ],
      "execution_count": null,
      "outputs": [
        {
          "output_type": "stream",
          "name": "stdout",
          "text": [
            "NVIDIA-SMI has failed because it couldn't communicate with the NVIDIA driver. Make sure that the latest NVIDIA driver is installed and running.\n",
            "\n"
          ]
        }
      ]
    },
    {
      "cell_type": "code",
      "metadata": {
        "id": "2lrsCgpxrb-5",
        "colab": {
          "base_uri": "https://localhost:8080/"
        },
        "outputId": "7f878ff3-56ab-402f-d90d-386a7ed3d8aa"
      },
      "source": [
        "!gdown --id '1lrKueI4HrySQDGvpkilQN9BfaMUN7hZi' --output train.zip\n",
        "\n",
        "!apt-get install unzi\n",
        "!unzip -q 'train.zip' -d train\n",
        "\n",
        "!gdown --id '1Fm-avdeNgzhPxhvia0iw9yZzcoOggy7I' --output test.zip\n",
        "!unzip -q 'test.zip' -d test"
      ],
      "execution_count": 48,
      "outputs": [
        {
          "output_type": "stream",
          "name": "stdout",
          "text": [
            "Downloading...\n",
            "From: https://drive.google.com/uc?id=1lrKueI4HrySQDGvpkilQN9BfaMUN7hZi\n",
            "To: /content/mmdetection/checkpoints/train.zip\n",
            "100% 420M/420M [00:02<00:00, 146MB/s]\n",
            "^C\n",
            "Downloading...\n",
            "From: https://drive.google.com/uc?id=1Fm-avdeNgzhPxhvia0iw9yZzcoOggy7I\n",
            "To: /content/mmdetection/checkpoints/test.zip\n",
            "100% 273M/273M [00:03<00:00, 71.6MB/s]\n"
          ]
        }
      ]
    },
    {
      "cell_type": "code",
      "metadata": {
        "colab": {
          "base_uri": "https://localhost:8080/"
        },
        "id": "_hteyN2COWmz",
        "outputId": "20182445-330c-44b4-b776-9cff1b9f4b84"
      },
      "source": [
        "# Git clone your project\n",
        "\n",
        "!git clone https://github.com/open-mmlab/mmdetection.git\n",
        "!git clone https://github.com/open-mmlab/mmcv.git"
      ],
      "execution_count": 51,
      "outputs": [
        {
          "output_type": "stream",
          "name": "stdout",
          "text": [
            "Cloning into 'mmdetection'...\n",
            "remote: Enumerating objects: 21852, done.\u001b[K\n",
            "remote: Total 21852 (delta 0), reused 0 (delta 0), pack-reused 21852\u001b[K\n",
            "Receiving objects: 100% (21852/21852), 25.21 MiB | 14.21 MiB/s, done.\n",
            "Resolving deltas: 100% (15334/15334), done.\n",
            "Cloning into 'mmcv'...\n",
            "remote: Enumerating objects: 9037, done.\u001b[K\n",
            "remote: Counting objects: 100% (2332/2332), done.\u001b[K\n",
            "remote: Compressing objects: 100% (1230/1230), done.\u001b[K\n",
            "remote: Total 9037 (delta 1372), reused 1555 (delta 1051), pack-reused 6705\u001b[K\n",
            "Receiving objects: 100% (9037/9037), 8.89 MiB | 13.88 MiB/s, done.\n",
            "Resolving deltas: 100% (6116/6116), done.\n"
          ]
        }
      ]
    },
    {
      "cell_type": "code",
      "metadata": {
        "colab": {
          "base_uri": "https://localhost:8080/"
        },
        "id": "OaYZdp6wPq-I",
        "outputId": "0c933d86-3f9b-4fb0-920f-d0a46ba3e888"
      },
      "source": [
        "# Install your requirments (torch, mmcv, ...)\n",
        "# It is recommended that you wirte the requirements.txt file in your project.\n",
        "\n",
        "%cd mmdetection\n",
        "\n",
        "!pip install mmcv-full\n",
        "\n",
        "!pip install -e .\n",
        "\n",
        "!pip install googledrivedownloader"
      ],
      "execution_count": 53,
      "outputs": [
        {
          "output_type": "stream",
          "name": "stdout",
          "text": [
            "[Errno 2] No such file or directory: 'mmdetection'\n",
            "/content/mmdetection/checkpoints/mmdetection\n",
            "Requirement already satisfied: mmcv-full in /usr/local/lib/python3.7/dist-packages (1.3.18)\n",
            "Requirement already satisfied: pyyaml in /usr/local/lib/python3.7/dist-packages (from mmcv-full) (3.13)\n",
            "Requirement already satisfied: packaging in /usr/local/lib/python3.7/dist-packages (from mmcv-full) (21.3)\n",
            "Requirement already satisfied: addict in /usr/local/lib/python3.7/dist-packages (from mmcv-full) (2.4.0)\n",
            "Requirement already satisfied: Pillow in /usr/local/lib/python3.7/dist-packages (from mmcv-full) (7.1.2)\n",
            "Requirement already satisfied: yapf in /usr/local/lib/python3.7/dist-packages (from mmcv-full) (0.31.0)\n",
            "Requirement already satisfied: numpy in /usr/local/lib/python3.7/dist-packages (from mmcv-full) (1.19.5)\n",
            "Requirement already satisfied: pyparsing!=3.0.5,>=2.0.2 in /usr/local/lib/python3.7/dist-packages (from packaging->mmcv-full) (3.0.6)\n",
            "Obtaining file:///content/mmdetection/checkpoints/mmdetection\n",
            "Requirement already satisfied: matplotlib in /usr/local/lib/python3.7/dist-packages (from mmdet==2.18.1) (3.2.2)\n",
            "Requirement already satisfied: numpy in /usr/local/lib/python3.7/dist-packages (from mmdet==2.18.1) (1.19.5)\n",
            "Requirement already satisfied: six in /usr/local/lib/python3.7/dist-packages (from mmdet==2.18.1) (1.15.0)\n",
            "Requirement already satisfied: terminaltables in /usr/local/lib/python3.7/dist-packages (from mmdet==2.18.1) (3.1.0)\n",
            "Requirement already satisfied: pycocotools in /usr/local/lib/python3.7/dist-packages (from mmdet==2.18.1) (2.0.2)\n",
            "Requirement already satisfied: python-dateutil>=2.1 in /usr/local/lib/python3.7/dist-packages (from matplotlib->mmdet==2.18.1) (2.8.2)\n",
            "Requirement already satisfied: kiwisolver>=1.0.1 in /usr/local/lib/python3.7/dist-packages (from matplotlib->mmdet==2.18.1) (1.3.2)\n",
            "Requirement already satisfied: cycler>=0.10 in /usr/local/lib/python3.7/dist-packages (from matplotlib->mmdet==2.18.1) (0.11.0)\n",
            "Requirement already satisfied: pyparsing!=2.0.4,!=2.1.2,!=2.1.6,>=2.0.1 in /usr/local/lib/python3.7/dist-packages (from matplotlib->mmdet==2.18.1) (3.0.6)\n",
            "Requirement already satisfied: cython>=0.27.3 in /usr/local/lib/python3.7/dist-packages (from pycocotools->mmdet==2.18.1) (0.29.24)\n",
            "Requirement already satisfied: setuptools>=18.0 in /usr/local/lib/python3.7/dist-packages (from pycocotools->mmdet==2.18.1) (57.4.0)\n",
            "Installing collected packages: mmdet\n",
            "  Attempting uninstall: mmdet\n",
            "    Found existing installation: mmdet 2.18.1\n",
            "    Can't uninstall 'mmdet'. No files were found to uninstall.\n",
            "  Running setup.py develop for mmdet\n",
            "Successfully installed mmdet-2.18.1\n",
            "Requirement already satisfied: googledrivedownloader in /usr/local/lib/python3.7/dist-packages (0.4)\n"
          ]
        }
      ]
    },
    {
      "cell_type": "code",
      "metadata": {
        "id": "N4M1nNaTRgQm"
      },
      "source": [
        "# Import your package and check the version\n",
        "\n",
        "%cd mmdetection\n",
        "\n",
        "import torch, torchvision\n",
        "print(torch.__version__, torch.cuda.is_available())\n",
        "\n",
        "import mmdet\n",
        "print(mmdet.__version__)\n",
        "\n",
        "import mmcv\n",
        "print(mmcv.__version__)\n",
        "\n",
        "from mmcv.ops import get_compiling_cuda_version, get_compiler_version\n",
        "print(get_compiling_cuda_version())\n",
        "print(get_compiler_version())\n",
        "\n",
        "from mmdet.apis import inference_detector, init_detector, show_result_pyplot\n",
        "\n",
        "# You must import the below 5 packages \n",
        "import os\n",
        "import cv2\n",
        "import time\n",
        "from tqdm import tqdm\n",
        "from google_drive_downloader import GoogleDriveDownloader as gdd"
      ],
      "execution_count": null,
      "outputs": []
    },
    {
      "cell_type": "markdown",
      "metadata": {
        "id": "8CSCVI0UrmwH"
      },
      "source": [
        "# Convert Dataset to COCO format "
      ]
    },
    {
      "cell_type": "code",
      "metadata": {
        "colab": {
          "base_uri": "https://localhost:8080/"
        },
        "id": "w7K_52bOZsz5",
        "outputId": "8101c358-170a-42ad-fa9f-ff27deb3fc72"
      },
      "source": [
        "# ref:https://stackoverflow.com/questions/41176258/h5py-access-data-indatasets-in-svhn/41264930\n",
        "# ref:https://mmdetection.readthedocs.io/en/latest/tutorials/customize_dataset.html\n",
        "# ref:https://mmdetection.readthedocs.io/en/latest/2_new_data_model.html\n",
        "# Deal with the .mat file\n",
        "import cv2\n",
        "import h5py\n",
        "import torchvision.models as models\n",
        "from tqdm.auto import tqdm\n",
        "import tqdm\n",
        "import json\n",
        "import mmcv\n",
        "import numpy as np\n",
        "\n",
        "%cd mmdetection\n",
        "def get_box_data(index, hdf5_data):\n",
        "  meta_data = dict()\n",
        "  meta_data['height'] = []\n",
        "  meta_data['label'] = []\n",
        "  meta_data['left'] = []\n",
        "  meta_data['top'] = []\n",
        "  meta_data['width'] = []\n",
        "\n",
        "  def print_attrs(name, obj):\n",
        "    vals = []\n",
        "    if obj.shape[0] == 1:\n",
        "      vals.append(obj[0][0])\n",
        "    else:\n",
        "      for k in range(obj.shape[0]):\n",
        "        vals.append(int(hdf5_data[obj[k][0]][0][0]))\n",
        "    meta_data[name] = vals\n",
        "\n",
        "  box = hdf5_data['/digitStruct/bbox'][index]\n",
        "  hdf5_data[box[0]].visititems(print_attrs)\n",
        "  return meta_data\n",
        "\n",
        "def get_name(index, hdf5_data):\n",
        "    name = hdf5_data['/digitStruct/name']\n",
        "    return ''.join([chr(v[0]) for v in hdf5_data[name[index][0]][:]])\n",
        "\n",
        "mat_data = h5py.File('/content/mmdetection/train/train/digitStruct.mat')\n",
        "#mat_data = h5py.File('/content/train/train/digitStruct.mat')\n",
        "size = mat_data['/digitStruct/name'].size\n",
        "images=list()\n",
        "annotations=list()\n",
        "object_count=0\n",
        "for _i in tqdm.tqdm(range(size)):\n",
        "    pic = get_name(_i, mat_data)\n",
        "    box = get_box_data(_i, mat_data)\n",
        "    filename = \"/content/mmdetection/train/train/\"+pic\n",
        "    image = mmcv.imread(filename)\n",
        "    height, width = image.shape[:2]\n",
        "    id_no = _i\n",
        "    #middle_dict = dict(filename=\"train/train/\"+pic, width=width, height=height)\n",
        "    images.append(dict(\n",
        "        id=id_no,\n",
        "        file_name=pic,\n",
        "        height=height,\n",
        "        width=width))\n",
        "# load annotations\n",
        "    for i in range(len(box[\"height\"])):\n",
        "      poly = [(box['left'][i], box['top'][i]), (box['left'][i] + box['width'][i], box['top'][i]),\n",
        "            (box['left'][i] + box['width'][i], box['top'][i] + box['height'][i]), (box['left'][i], box['top'][i] + box['height'][i])]\n",
        "      poly = [float(p) for x in poly for p in x]\n",
        "      anno = dict(\n",
        "          image_id = _i,\n",
        "          id = object_count,\n",
        "          category_id = box[\"label\"][i],\n",
        "          bbox=[box['left'][i], box['top'][i], box['width'][i], box['height'][i]],\n",
        "          area=height*width,\n",
        "          segmentation=[poly],\n",
        "          iscrowd=0)\n",
        "      annotations.append(anno)\n",
        "      object_count += 1\n",
        "      \n",
        "coco_format = dict(\n",
        "        images=images,\n",
        "        annotations=annotations,\n",
        "        categories=[{'id': i, 'name': str(i if i % 10 else 0)} for i in range(1, 11)])\n",
        "json_object = json.dumps(coco_format, indent=4)\n",
        "\n",
        "%cd content\n",
        "with open(\"digitStruct.json\", \"w\") as outfile:\n",
        "    outfile.write(json_object)\n"
      ],
      "execution_count": null,
      "outputs": [
        {
          "output_type": "stream",
          "name": "stdout",
          "text": [
            "[Errno 2] No such file or directory: 'mmdetection'\n",
            "/content/mmdetection/checkpoints\n"
          ]
        },
        {
          "output_type": "stream",
          "name": "stderr",
          "text": [
            "100%|██████████| 33402/33402 [05:32<00:00, 100.58it/s]\n"
          ]
        },
        {
          "output_type": "stream",
          "name": "stdout",
          "text": [
            "[Errno 2] No such file or directory: 'content'\n",
            "/content/mmdetection/checkpoints\n"
          ]
        }
      ]
    },
    {
      "cell_type": "code",
      "metadata": {
        "colab": {
          "base_uri": "https://localhost:8080/",
          "height": 408
        },
        "id": "qW1tvsTl9WyM",
        "outputId": "d6a1a77d-0356-4e0f-dbd8-7bfef7cdb01b"
      },
      "source": [
        "import mmcv\n",
        "import matplotlib.pyplot as plt\n",
        "img=mmcv.imread(\"/content/mmdetection/test/test/117.png\")\n",
        "plt.figure(figsize=(15, 10))\n",
        "plt.imshow(mmcv.bgr2rgb(img))\n",
        "plt.show()\n",
        ")\n"
      ],
      "execution_count": null,
      "outputs": [
        {
          "output_type": "display_data",
          "data": {
            "image/png": "[encoded data removed]",
            "text/plain": [
              "<Figure size 1080x720 with 1 Axes>"
            ]
          },
          "metadata": {
            "needs_background": "light"
          }
        }
      ]
    },
    {
      "cell_type": "code",
      "metadata": {
        "id": "YT-YgNDsB3XS"
      },
      "source": [
        "import os\n",
        "dir = \"/content/mmdetection/test/test/\"\n",
        "test_json= \"/content/mmdetection/test.json\"\n",
        "images = list()\n",
        "for filename in os.listdir(dir):\n",
        "  images.append(dict(\n",
        "      file_name=filename,\n",
        "      id=filename.rstrip('.jpg')\n",
        "  ))\n",
        "\n",
        "json_object = json.dumps(coco_format, indent=4)\n",
        "\n",
        "with open(test_json, \"w\") as outfile:\n",
        "    outfile.write(json_object)"
      ],
      "execution_count": null,
      "outputs": []
    },
    {
      "cell_type": "markdown",
      "metadata": {
        "id": "V6bO4unyo1pM"
      },
      "source": [
        "## Download Pretrained Model"
      ]
    },
    {
      "cell_type": "code",
      "metadata": {
        "colab": {
          "base_uri": "https://localhost:8080/"
        },
        "id": "KFZnLF8MqEEf",
        "outputId": "bf0dab3e-8911-4e4d-a1ec-580983e7e41d"
      },
      "source": [
        "%cd mmdetection\n",
        "%mkdir checkpoints\n",
        "%cd checkpoints\n",
        "\n",
        "#!wget https://download.openmmlab.com/mmdetection/v2.0/configs/fast_rcnn/fast_rcnn_r50_fpn_1x_coco.py\n",
        "\n",
        "config = '/content/mmdetection/configs/faster_rcnn/faster_rcnn_r50_fpn_1x_coco.py'\n",
        "\n",
        "!wget https://download.openmmlab.com/mmdetection/v2.0/faster_rcnn/faster_rcnn_r50_fpn_1x_coco/faster_rcnn_r50_fpn_1x_coco_20200130-047c8118.pth"
      ],
      "execution_count": null,
      "outputs": [
        {
          "output_type": "stream",
          "name": "stdout",
          "text": [
            "[Errno 2] No such file or directory: 'mmdetection'\n",
            "/content/mmdetection\n",
            "/content/mmdetection/checkpoints\n",
            "--2021-11-26 10:48:27--  https://download.openmmlab.com/mmdetection/v2.0/faster_rcnn/faster_rcnn_r50_fpn_1x_coco/faster_rcnn_r50_fpn_1x_coco_20200130-047c8118.pth\n",
            "Resolving download.openmmlab.com (download.openmmlab.com)... 47.75.20.5\n",
            "Connecting to download.openmmlab.com (download.openmmlab.com)|47.75.20.5|:443... connected.\n",
            "HTTP request sent, awaiting response... 200 OK\n",
            "Length: 167287506 (160M) [application/octet-stream]\n",
            "Saving to: ‘faster_rcnn_r50_fpn_1x_coco_20200130-047c8118.pth’\n",
            "\n",
            "faster_rcnn_r50_fpn 100%[===================>] 159.54M  13.0MB/s    in 13s     \n",
            "\n",
            "2021-11-26 10:48:41 (12.1 MB/s) - ‘faster_rcnn_r50_fpn_1x_coco_20200130-047c8118.pth’ saved [167287506/167287506]\n",
            "\n"
          ]
        }
      ]
    },
    {
      "cell_type": "markdown",
      "metadata": {
        "id": "tT9AKW5s49h5"
      },
      "source": [
        "# Start Training"
      ]
    },
    {
      "cell_type": "code",
      "metadata": {
        "id": "AhTIC68H5BMJ"
      },
      "source": [
        "# The new config inherits a base config to highlight the necessary modification\n",
        "_base_ = '/content/mmdetection/configs/faster_rcnn/faster_rcnn_r50_fpn_1x_coco.py'\n",
        "\n",
        "# We also need to change the num_classes in head to match the dataset's annotation\n",
        "model = dict(\n",
        "    roi_head=dict(\n",
        "        bbox_head = dict(num_classes=10),\n",
        "        mask_head = dict(num_classes=10)))\n",
        "\n",
        "# Modify dataset related settings\n",
        "dataset_type = 'COCODataset'\n",
        "classes = ('0', '1', '2', '3', '4', '5', '6', '7', '8', '9',)\n",
        "data = dict(\n",
        "    train = dict(\n",
        "        img_prefix = '/content/mmdetection/train/train/',\n",
        "        classes = classes,\n",
        "        ann_file = '/content/mmdetection/checkpoints/digitStruct.json'),\n",
        "    val = dict(\n",
        "        img_prefix = '/content/mmdetection/test/test/',\n",
        "        classes = classes,\n",
        "        ann_file = '/content/mmdetection/test.json'),\n",
        "    test = dict(\n",
        "        img_prefix = '/content/mmdetection/test/test/',\n",
        "        classes = classes,\n",
        "        ann_file = '/content/mmdetection/test.json'))\n",
        "\n",
        "# We can use the pre-trained Mask RCNN model to obtain higher performance\n",
        "load_from = 'checkpoints/faster_rcnn_r50_fpn_1x_coco_20200130-047c8118.pth'"
      ],
      "execution_count": null,
      "outputs": []
    },
    {
      "cell_type": "code",
      "metadata": {
        "id": "jQoVqLWAF4kz"
      },
      "source": [
        "from mmdet.apis import init_detector, inference_detector\n",
        "import mmcv\n",
        "\n",
        "# Specify the path to model config and checkpoint file\n",
        "config_file = '/content/mmdetection/configs/faster_rcnn/faster_rcnn_r50_fpn_1x_coco.py'\n",
        "checkpoint_file = '/content/mmdetection/checkpoints/faster_rcnn_r50_fpn_1x_coco_20200130-047c8118.pth'\n",
        "\n",
        "# build the model from a config file and a checkpoint file\n",
        "model = init_detector(config_file, checkpoint_file, device='cuda:0')\n",
        "\n",
        "# test a single image and show the results\n",
        "img = '1.png'  # or img = mmcv.imread(img), which will only load it once\n",
        "result = inference_detector(model, img)\n",
        "# visualize the results in a new window\n",
        "model.show_result(img, result)\n",
        "# or save the visualization results to image files\n",
        "model.show_result(img, result, out_file='result.jpg')"
      ],
      "execution_count": null,
      "outputs": []
    },
    {
      "cell_type": "markdown",
      "metadata": {
        "id": "YM4LIRjg4Hce"
      },
      "source": [
        "# Wget Testing Data"
      ]
    },
    {
      "cell_type": "code",
      "metadata": {
        "colab": {
          "base_uri": "https://localhost:8080/"
        },
        "id": "aCmc4eTGQ-sz",
        "outputId": "6b760952-81b1-4bf9-e29e-7fc970d5d22f"
      },
      "source": [
        "# 1. Download the testing data\n",
        "\n",
        "gdd.download_file_from_google_drive(file_id='1Fm-avdeNgzhPxhvia0iw9yZzcoOggy7I',\n",
        "                                    dest_path='./test.zip',\n",
        "                                    unzip=True)\n",
        "\n",
        "# 2. Read the image_name and put them into the list\n",
        "# You need to modify the path to fit your test_folder\n",
        "data_listdir = os.listdir(\"/content/mmdetection/test\")\n"
      ],
      "execution_count": null,
      "outputs": [
        {
          "output_type": "stream",
          "name": "stdout",
          "text": [
            "Downloading 1Fm-avdeNgzhPxhvia0iw9yZzcoOggy7I into ./test.zip... Done.\n",
            "Unzipping...Done.\n"
          ]
        }
      ]
    },
    {
      "cell_type": "markdown",
      "metadata": {
        "id": "qE6wqLzi4OJh"
      },
      "source": [
        "# Run inference and bench mark"
      ]
    },
    {
      "cell_type": "code",
      "metadata": {
        "id": "BTs4phq2W8zG",
        "colab": {
          "base_uri": "https://localhost:8080/",
          "height": 218
        },
        "outputId": "79de8c43-70f6-4cf8-cf57-c7a4b0ac4802"
      },
      "source": [
        "from google.colab import drive\n",
        "from google.colab import files\n",
        "drive.mount('/content/drive')\n",
        "\n",
        "# 1. Load your model and weights\n",
        "config = '/content/mmdetection/configs/faster_rcnn/faster_rcnn_r50_fpn_1x_coco.py'\n",
        "checkpoint = '/content/mmdetection/checkpoints/faster_rcnn_r50_fpn_1x_coco_20200130-047c8118.pth'\n",
        "\n",
        "\n",
        "# 2. Initialize the model\n",
        "model = init_detector(config, checkpoint, device='cuda:0')\n"
      ],
      "execution_count": null,
      "outputs": [
        {
          "output_type": "stream",
          "name": "stdout",
          "text": [
            "Mounted at /content/drive\n"
          ]
        },
        {
          "output_type": "error",
          "ename": "NameError",
          "evalue": "ignored",
          "traceback": [
            "\u001b[0;31m---------------------------------------------------------------------------\u001b[0m",
            "\u001b[0;31mNameError\u001b[0m                                 Traceback (most recent call last)",
            "\u001b[0;32m<ipython-input-1-d89c082252d0>\u001b[0m in \u001b[0;36m<module>\u001b[0;34m()\u001b[0m\n\u001b[1;32m      8\u001b[0m \u001b[0;34m\u001b[0m\u001b[0m\n\u001b[1;32m      9\u001b[0m \u001b[0;31m# 2. Initialize the model\u001b[0m\u001b[0;34m\u001b[0m\u001b[0;34m\u001b[0m\u001b[0;34m\u001b[0m\u001b[0m\n\u001b[0;32m---> 10\u001b[0;31m \u001b[0mmodel\u001b[0m \u001b[0;34m=\u001b[0m \u001b[0minit_detector\u001b[0m\u001b[0;34m(\u001b[0m\u001b[0mconfig\u001b[0m\u001b[0;34m,\u001b[0m \u001b[0mcheckpoint\u001b[0m\u001b[0;34m,\u001b[0m \u001b[0mdevice\u001b[0m\u001b[0;34m=\u001b[0m\u001b[0;34m'cuda:0'\u001b[0m\u001b[0;34m)\u001b[0m\u001b[0;34m\u001b[0m\u001b[0;34m\u001b[0m\u001b[0m\n\u001b[0m",
            "\u001b[0;31mNameError\u001b[0m: name 'init_detector' is not defined"
          ]
        }
      ]
    },
    {
      "cell_type": "code",
      "metadata": {
        "colab": {
          "base_uri": "https://localhost:8080/"
        },
        "id": "xP3Cp5vYXVYq",
        "outputId": "39363aeb-617d-4825-979b-6821fa2b8310"
      },
      "source": [
        "# Test your inference time\n",
        "TEST_IMAGE_NUMBER = 100 # This number is fixed.\n",
        "test_img_list = []\n",
        "\n",
        "# Read image (Be careful with the image order)\n",
        "data_listdir.sort(key = lambda x: int(x[:-4]))\n",
        "for img_name in data_listdir[:TEST_IMAGE_NUMBER]:\n",
        "  img_path = os.path.join(\"/content/mmdetection/test\", img_name)\n",
        "  img = cv2.imread(img_path)\n",
        "  test_img_list.append(img)\n",
        "\n",
        "start_time = time.time()\n",
        "for img in tqdm(test_img_list):\n",
        "    # your model prediction\n",
        "    pred = inference_detector(model, img)\n",
        "\n",
        "end_time  = time.time()\n",
        "print(\"\\nInference time per image: \", (end_time - start_time) / len(test_img_list))\n",
        "\n",
        "# Remember to screenshot!"
      ],
      "execution_count": null,
      "outputs": [
        {
          "name": "stderr",
          "output_type": "stream",
          "text": [
            "\r",
            "  0%|          | 0/100 [00:00<?, ?it/s]/content/mmdetection/mmdet/datasets/utils.py:69: UserWarning: \"ImageToTensor\" pipeline is replaced by \"DefaultFormatBundle\" for batch inference. It is recommended to manually replace it in the test data pipeline in your config file.\n",
            "  'data pipeline in your config file.', UserWarning)\n",
            "100%|██████████| 100/100 [00:29<00:00,  3.35it/s]"
          ]
        },
        {
          "name": "stdout",
          "output_type": "stream",
          "text": [
            "\n",
            "Inference time per image:  0.29895930528640746\n"
          ]
        },
        {
          "name": "stderr",
          "output_type": "stream",
          "text": [
            "\n"
          ]
        }
      ]
    },
    {
      "cell_type": "markdown",
      "metadata": {
        "id": "kaelAOFlLdSJ"
      },
      "source": [
        "# Generate answer.json for submission on Codalab"
      ]
    },
    {
      "cell_type": "code",
      "metadata": {
        "id": "HVr_Mls8NBe6"
      },
      "source": [
        "# Use the results from your model to generate the output json file\n",
        "data_listdir = os.listdir(\"test_image_dir/\")\n",
        "data_listdir.sort(key = lambda x: int(x[:-4]))\n",
        "result_to_json = []\n",
        "\n",
        "# for each test image\n",
        "for img_name in data_listdir:\n",
        "    # the image_name is as same as the image_id\n",
        "    image_id = int(img_name[:-4])\n",
        "\n",
        "    # add each detection box infomation into list\n",
        "    your_model_detection_output[img_name] = all_det_boxes_in_this_image\n",
        "\n",
        "    for det_box in all_det_boxes_in_this_image:\n",
        "        det_box_info = {}\n",
        "\n",
        "        # An integer to identify the image\n",
        "        image_id = det_box_info[\"image_id\"]\n",
        "        \n",
        "        # A list ( [left_x, top_y, width, height] )\n",
        "        det_box[\"bbox\"] = det_box_info[\"bbox\"]\n",
        "        \n",
        "        # A float number between 0 ~ 1 which means the confidence of the bbox\n",
        "        det_box[\"score\"] = det_box_info[\"score\"]\n",
        "        \n",
        "        # An integer which means the label class\n",
        "        det_box[\"category_id\"] = det_box_info[\"category_id\"]\n",
        "        \n",
        "        result_to_json.append(det_box_info)\n",
        "\n",
        "# Write the list to answer.json \n",
        "json_object = json.dumps(result_to_json, indent=4)\n",
        "\n",
        "with open(\"answer.json\", \"w\") as outfile:\n",
        "    outfile.write(json_object)\n"
      ],
      "execution_count": null,
      "outputs": []
    }
  ]
}